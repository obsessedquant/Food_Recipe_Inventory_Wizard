{
 "cells": [
  {
   "cell_type": "code",
   "execution_count": 2,
   "id": "3af82f08",
   "metadata": {},
   "outputs": [
    {
     "name": "stdout",
     "output_type": "stream",
     "text": [
      "Collecting beautifulsoup4\n",
      "  Downloading beautifulsoup4-4.10.0-py3-none-any.whl (97 kB)\n",
      "Collecting soupsieve>1.2\n",
      "  Downloading soupsieve-2.2.1-py3-none-any.whl (33 kB)\n",
      "Installing collected packages: soupsieve, beautifulsoup4\n",
      "Successfully installed beautifulsoup4-4.10.0 soupsieve-2.2.1\n"
     ]
    }
   ],
   "source": [
    "# !pip install beautifulsoup4"
   ]
  },
  {
   "cell_type": "code",
   "execution_count": 7,
   "id": "513b2f56",
   "metadata": {},
   "outputs": [],
   "source": [
    "from bs4 import BeautifulSoup as soup\n",
    "from urllib.request import urlopen as ureq"
   ]
  },
  {
   "cell_type": "code",
   "execution_count": 8,
   "id": "c82b9a71",
   "metadata": {},
   "outputs": [],
   "source": [
    "my_url = 'https://www.newegg.com/p/pl?d=graphics+card'\n",
    "\n",
    "# Opening connection, grabbing the page\n",
    "uclient = ureq(my_url)\n",
    "page_html = uclient.read()\n",
    "uclient.close()\n",
    "\n",
    "# HTML parsing\n",
    "page_soup = soup(page_html, \"html.parser\")\n",
    "\n",
    "# Tests to see if html has been parsed properly\n",
    "# page_soup.h1 # shows header information\n",
    "# page_soup.p # shows paragraph information\n",
    "# page_soup.body.span\n",
    "\n",
    "# Grabs each product\n",
    "containers = page_soup.findAll(\"div\",{\"class\":\"item-container\"})\n",
    "# len(containers) # find total number of containers\n",
    "# container = containers[0] # look at the first container\n",
    "# container.a\n",
    "# container.div.a\n",
    "\n",
    "# title_container = container.findAll(\"a\", {\"class\":\"item_title\"})\n",
    "# title_container\n",
    "\n",
    "# shipping_container = container.findAll(\"li\", {\"class\":\"price-ship\"})\n",
    "# shipping_container[0].text.strip() # strip removes all white space before or after, new lines, etc\n",
    "\n",
    "# Build loop to export data to csv file\n",
    "filename = \"products.csv\"\n",
    "f = open(filenmae, \"w\")\n",
    "\n",
    "headers = \"brand, product_name, shipping\\n\"\n",
    "\n",
    "f.write(headers)\n",
    "\n",
    "for container in containers:\n",
    "    brand = container.div.div.a.img[\"title\"]\n",
    "    title_container = container.findAll(\"a\", {\"class\":\"item_title\"})\n",
    "    product_name = title_container[0].text\n",
    "    shipping_container = container.findAll(\"li\", {\"class\":\"price-ship\"})\n",
    "    shipping = shipping_container[0].text.strip() # strip removes all white space before or after, new lines, etc\n",
    "    \n",
    "    print(\"brand: \" + brand)\n",
    "    print(\"product_name: \" + product_name)\n",
    "    print(\"shipping: \" + shipping)\n",
    "    \n",
    "    f.write(brand + \",\" + product_name.replace(\",\",\"|\") + \",\" + shipping + \"\\n\")\n",
    "\n",
    "f.close()"
   ]
  },
  {
   "cell_type": "code",
   "execution_count": 30,
   "id": "6d290d05",
   "metadata": {},
   "outputs": [],
   "source": [
    "my_url = 'https://www.allrecipes.com/recipe/20185/virginas-tuna-salad/'\n",
    "\n",
    "# Opening connection, grabbing the page\n",
    "uclient = ureq(my_url)\n",
    "page_html = uclient.read()\n",
    "uclient.close()"
   ]
  },
  {
   "cell_type": "code",
   "execution_count": 31,
   "id": "37e0cfb9",
   "metadata": {},
   "outputs": [],
   "source": [
    "# HTML parsing\n",
    "page_soup = soup(page_html, \"html.parser\")"
   ]
  },
  {
   "cell_type": "code",
   "execution_count": 34,
   "id": "b7d272fe",
   "metadata": {},
   "outputs": [
    {
     "data": {
      "text/plain": [
       "<span aria-hidden=\"true\" class=\"menu-explore\">Explore</span>"
      ]
     },
     "execution_count": 34,
     "metadata": {},
     "output_type": "execute_result"
    }
   ],
   "source": [
    "# Tests to see if html has been parsed properly\n",
    "# page_soup.h1 # shows header information\n",
    "# page_soup.p # shows paragraph information\n",
    "page_soup.body.span"
   ]
  },
  {
   "cell_type": "code",
   "execution_count": 38,
   "id": "df945272",
   "metadata": {},
   "outputs": [
    {
     "data": {
      "text/plain": [
       "<span class=\"ingredients-item-name\">1 egg </span>"
      ]
     },
     "execution_count": 38,
     "metadata": {},
     "output_type": "execute_result"
    }
   ],
   "source": [
    "# Grabs each product\n",
    "# containers = page_soup.findAll(\"span\",{\"class\":\"ingredients-item-name\"})\n",
    "# len(containers) # find total number of containers\n",
    "container = containers[0] # look at the first container\n",
    "container\n",
    "# container.a\n",
    "# container.div.a"
   ]
  },
  {
   "cell_type": "code",
   "execution_count": null,
   "id": "0f148b0b",
   "metadata": {},
   "outputs": [],
   "source": [
    "def remove_tags(html):\n",
    "    "
   ]
  },
  {
   "cell_type": "code",
   "execution_count": 40,
   "id": "ebe1bb4f",
   "metadata": {},
   "outputs": [],
   "source": [
    "container = container.decompose()\n",
    "container"
   ]
  },
  {
   "cell_type": "code",
   "execution_count": null,
   "id": "d491ddd8",
   "metadata": {},
   "outputs": [],
   "source": [
    "# title_container = container.findAll(\"a\", {\"class\":\"item_title\"})\n",
    "# title_container"
   ]
  },
  {
   "cell_type": "code",
   "execution_count": null,
   "id": "f98dafe9",
   "metadata": {},
   "outputs": [],
   "source": [
    "# shipping_container = container.findAll(\"li\", {\"class\":\"price-ship\"})\n",
    "# shipping_container[0].text.strip() # strip removes all white space before or after, new lines, etc"
   ]
  },
  {
   "cell_type": "code",
   "execution_count": null,
   "id": "f2c064da",
   "metadata": {},
   "outputs": [],
   "source": [
    "# Build loop to export data to csv file\n",
    "filename = \"ingredients.csv\"\n",
    "f = open(filenmae, \"w\")\n",
    "\n",
    "headers = \"ingredient, product_name, shipping\\n\"\n",
    "\n",
    "f.write(headers)\n",
    "\n",
    "for container in containers:\n",
    "    brand = container.div.div.a.img[\"title\"]\n",
    "    title_container = container.findAll(\"a\", {\"class\":\"item_title\"})\n",
    "    product_name = title_container[0].text\n",
    "    shipping_container = container.findAll(\"li\", {\"class\":\"price-ship\"})\n",
    "    shipping = shipping_container[0].text.strip() # strip removes all white space before or after, new lines, etc\n",
    "    \n",
    "    print(\"brand: \" + brand)\n",
    "    print(\"product_name: \" + product_name)\n",
    "    print(\"shipping: \" + shipping)\n",
    "    \n",
    "    f.write(brand + \",\" + product_name.replace(\",\",\"|\") + \",\" + shipping + \"\\n\")\n",
    "\n",
    "f.close()"
   ]
  }
 ],
 "metadata": {
  "kernelspec": {
   "display_name": "Python [conda env:pyvizenv]",
   "language": "python",
   "name": "conda-env-pyvizenv-py"
  },
  "language_info": {
   "codemirror_mode": {
    "name": "ipython",
    "version": 3
   },
   "file_extension": ".py",
   "mimetype": "text/x-python",
   "name": "python",
   "nbconvert_exporter": "python",
   "pygments_lexer": "ipython3",
   "version": "3.7.11"
  }
 },
 "nbformat": 4,
 "nbformat_minor": 5
}

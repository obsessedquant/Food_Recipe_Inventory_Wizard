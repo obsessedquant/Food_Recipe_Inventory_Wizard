{
 "cells": [
  {
   "cell_type": "code",
   "execution_count": 2,
   "id": "3af82f08",
   "metadata": {},
   "outputs": [
    {
     "name": "stdout",
     "output_type": "stream",
     "text": [
      "Collecting beautifulsoup4\n",
      "  Downloading beautifulsoup4-4.10.0-py3-none-any.whl (97 kB)\n",
      "Collecting soupsieve>1.2\n",
      "  Downloading soupsieve-2.2.1-py3-none-any.whl (33 kB)\n",
      "Installing collected packages: soupsieve, beautifulsoup4\n",
      "Successfully installed beautifulsoup4-4.10.0 soupsieve-2.2.1\n"
     ]
    }
   ],
   "source": [
    "# !pip install beautifulsoup4"
   ]
  },
  {
   "cell_type": "code",
   "execution_count": 66,
   "id": "513b2f56",
   "metadata": {},
   "outputs": [],
   "source": [
    "from bs4 import BeautifulSoup as soup\n",
    "from urllib.request import urlopen as ureq\n",
    "import re"
   ]
  },
  {
   "cell_type": "code",
   "execution_count": 8,
   "id": "c82b9a71",
   "metadata": {},
   "outputs": [],
   "source": [
    "my_url = 'https://www.newegg.com/p/pl?d=graphics+card'\n",
    "\n",
    "# Opening connection, grabbing the page\n",
    "uclient = ureq(my_url)\n",
    "page_html = uclient.read()\n",
    "uclient.close()\n",
    "\n",
    "# HTML parsing\n",
    "page_soup = soup(page_html, \"html.parser\")\n",
    "\n",
    "# Tests to see if html has been parsed properly\n",
    "# page_soup.h1 # shows header information\n",
    "# page_soup.p # shows paragraph information\n",
    "# page_soup.body.span\n",
    "\n",
    "# Grabs each product\n",
    "containers = page_soup.findAll(\"div\",{\"class\":\"item-container\"})\n",
    "# len(containers) # find total number of containers\n",
    "# container = containers[0] # look at the first container\n",
    "# container.a\n",
    "# container.div.a\n",
    "\n",
    "# title_container = container.findAll(\"a\", {\"class\":\"item_title\"})\n",
    "# title_container\n",
    "\n",
    "# shipping_container = container.findAll(\"li\", {\"class\":\"price-ship\"})\n",
    "# shipping_container[0].text.strip() # strip removes all white space before or after, new lines, etc\n",
    "\n",
    "# Build loop to export data to csv file\n",
    "filename = \"products.csv\"\n",
    "f = open(filenmae, \"w\")\n",
    "\n",
    "headers = \"brand, product_name, shipping\\n\"\n",
    "\n",
    "f.write(headers)\n",
    "\n",
    "for container in containers:\n",
    "    brand = container.div.div.a.img[\"title\"]\n",
    "    title_container = container.findAll(\"a\", {\"class\":\"item_title\"})\n",
    "    product_name = title_container[0].text\n",
    "    shipping_container = container.findAll(\"li\", {\"class\":\"price-ship\"})\n",
    "    shipping = shipping_container[0].text.strip() # strip removes all white space before or after, new lines, etc\n",
    "    \n",
    "    print(\"brand: \" + brand)\n",
    "    print(\"product_name: \" + product_name)\n",
    "    print(\"shipping: \" + shipping)\n",
    "    \n",
    "    f.write(brand + \",\" + product_name.replace(\",\",\"|\") + \",\" + shipping + \"\\n\")\n",
    "\n",
    "f.close()"
   ]
  },
  {
   "cell_type": "code",
   "execution_count": 67,
   "id": "6d290d05",
   "metadata": {},
   "outputs": [],
   "source": [
    "my_url = 'https://www.allrecipes.com/recipe/20185/virginas-tuna-salad/'\n",
    "\n",
    "# Opening connection, grabbing the page\n",
    "uclient = ureq(my_url)\n",
    "page_html = uclient.read()\n",
    "uclient.close()"
   ]
  },
  {
   "cell_type": "code",
   "execution_count": 68,
   "id": "37e0cfb9",
   "metadata": {},
   "outputs": [],
   "source": [
    "# HTML parsing\n",
    "page_soup = soup(page_html, \"html.parser\")"
   ]
  },
  {
   "cell_type": "code",
   "execution_count": 69,
   "id": "b7d272fe",
   "metadata": {},
   "outputs": [
    {
     "data": {
      "text/plain": [
       "<span aria-hidden=\"true\" class=\"menu-explore\">Explore</span>"
      ]
     },
     "execution_count": 69,
     "metadata": {},
     "output_type": "execute_result"
    }
   ],
   "source": [
    "# Tests to see if html has been parsed properly\n",
    "# page_soup.h1 # shows header information\n",
    "# page_soup.p # shows paragraph information\n",
    "# page_soup.body.span"
   ]
  },
  {
   "cell_type": "code",
   "execution_count": 9,
   "id": "3758749f",
   "metadata": {},
   "outputs": [
    {
     "data": {
      "text/plain": [
       "'Explore'"
      ]
     },
     "execution_count": 9,
     "metadata": {},
     "output_type": "execute_result"
    }
   ],
   "source": [
    "# page_soup.body.span.text"
   ]
  },
  {
   "cell_type": "code",
   "execution_count": 70,
   "id": "d0629e9b",
   "metadata": {},
   "outputs": [
    {
     "name": "stdout",
     "output_type": "stream",
     "text": [
      "Virgina's Tuna Salad\n",
      "40 mins \n",
      "4 \n"
     ]
    }
   ],
   "source": [
    "title = page_soup.findAll(\"h1\",{\"class\":\"headline heading-content\"})[0].text\n",
    "print(title)\n",
    "total_mins = page_soup.findAll(\"div\",{\"class\":\"recipe-meta-item-body\"})[3].text\n",
    "print(total_mins)\n",
    "default_servings = page_soup.findAll(\"div\",{\"class\":\"recipe-meta-item-body\"})[4].text\n",
    "print(default_servings)"
   ]
  },
  {
   "cell_type": "code",
   "execution_count": 71,
   "id": "508f7f5e",
   "metadata": {},
   "outputs": [
    {
     "data": {
      "text/plain": [
       "6"
      ]
     },
     "execution_count": 71,
     "metadata": {},
     "output_type": "execute_result"
    }
   ],
   "source": [
    "# Grabs each product\n",
    "containers = page_soup.findAll(\"span\",{\"class\":\"ingredients-item-name\"})\n",
    "len(containers) # find total number of containers"
   ]
  },
  {
   "cell_type": "code",
   "execution_count": 73,
   "id": "df945272",
   "metadata": {},
   "outputs": [
    {
     "data": {
      "text/plain": [
       "<span class=\"ingredients-item-name\">1 egg </span>"
      ]
     },
     "execution_count": 73,
     "metadata": {},
     "output_type": "execute_result"
    }
   ],
   "source": [
    "# container = containers[0] # look at the first container\n",
    "# container\n",
    "# stringz = container.text\n",
    "# numberz = \"\".join(re.split(\"[^0-9]*\",stringz))\n",
    "# print(numberz)\n",
    "# letterz = \"\".join(re.split(\"[^a-zA-Z]*\",stringz))\n",
    "# print(numberz + \" \" + letterz)\n",
    "# container.a\n",
    "# container.div.a"
   ]
  },
  {
   "cell_type": "code",
   "execution_count": null,
   "id": "a407d601",
   "metadata": {},
   "outputs": [],
   "source": [
    "# need to find out which character index are numbers\n",
    "# if the character index are next to each other, then they are part of the same number\n",
    "# if not, then they're not\n",
    "# if there is more than 1 number, then multiply the two numbers together\n",
    "# the word after the numbers is the uom\n",
    "# after that is the description of the ingredient\n",
    "# if ingredient contains x, then replace with x, else print out ingredient (so that it may be added to our tables)\n",
    "\n",
    "# pattern = re.compile(r'0123456789')"
   ]
  },
  {
   "cell_type": "code",
   "execution_count": 74,
   "id": "229ac684",
   "metadata": {},
   "outputs": [],
   "source": [
    "# wordz = stringz.split()\n",
    "# print(wordz)"
   ]
  },
  {
   "cell_type": "code",
   "execution_count": 76,
   "id": "25a13f81",
   "metadata": {},
   "outputs": [
    {
     "name": "stdout",
     "output_type": "stream",
     "text": [
      " 1     e g g  \n",
      " 1  5     o u n c e  c a n  t u n a  d r a i n e d  a n d  f l a k e d  \n",
      " 3     t a b l e s p o o n s  m a y o n n a i s e  \n",
      " 2     s t a l k s  c e l e r y  c h o p p e d  \n",
      " 2     t a b l e s p o o n s  s w e e t  p i c k l e  r e l i s h  \n",
      " 1     p i n c h  g r o u n d  b l a c k  p e p p e r  \n"
     ]
    }
   ],
   "source": [
    "# stringz = []\n",
    "# numberz = []\n",
    "# wordz = []\n",
    "\n",
    "# pattern1 = re.compile(r'[0-9]+') # looks for the numbers to calculate 'default_qty'\n",
    "# pattern2 = re.compile(r'[a-z]+')\n",
    "# pepper_pattern = re.compile(r'(bell pepper|black pepper|banana pepper|Italian pepper|poblano pepper|Cuban pepper|Anaheim pepper|Jalapeno pepper|chile pepper|habanero pepper)')\n",
    " \n",
    "# for container in containers: # look at the first container\n",
    "#     stringz = container.text\n",
    "#     nmbr = pattern1.findall(stringz)\n",
    "#     # print(numberz)\n",
    "#     letterz = \" \".join(re.split(\"[^a-zA-Z]*\",stringz))\n",
    "#     print(numberz + \" \" + letterz)"
   ]
  },
  {
   "cell_type": "code",
   "execution_count": 111,
   "id": "8c923940",
   "metadata": {},
   "outputs": [
    {
     "name": "stdout",
     "output_type": "stream",
     "text": [
      "Quantity numbers are ['1']\n",
      "List of possible ingredients are ['egg']\n",
      "Quantity is 1.0.\n",
      "each\n",
      "UoM is each.\n",
      "Ingredient is egg.\n",
      "\n",
      "Quantity numbers are ['1', '5']\n",
      "List of possible ingredients are ['ounce', 'can', 'tuna', 'drained', 'and', 'flaked']\n",
      "Quantity is 5.0.\n",
      "ounce\n",
      "UoM is ounce.\n",
      "Ingredient is tuna.\n",
      "\n",
      "Quantity numbers are ['3']\n",
      "List of possible ingredients are ['tablespoons', 'mayonnaise']\n",
      "Quantity is 3.0.\n",
      "tablespoons\n",
      "UoM is tablespoons.\n",
      "Ingredient is mayonnaise.\n",
      "\n",
      "Quantity numbers are ['2']\n",
      "List of possible ingredients are ['stalks', 'celery', 'chopped']\n",
      "Quantity is 2.0.\n",
      "stalks\n",
      "UoM is stalks.\n",
      "Ingredient is celery.\n",
      "\n",
      "Quantity numbers are ['2']\n",
      "List of possible ingredients are ['tablespoons', 'sweet', 'pickle', 'relish']\n",
      "Quantity is 2.0.\n",
      "tablespoons\n",
      "UoM is tablespoons.\n",
      "Ingredient is relish.\n",
      "\n",
      "Quantity numbers are ['1']\n",
      "List of possible ingredients are ['pinch', 'ground', 'black', 'pepper']\n",
      "Quantity is 1.0.\n",
      "pinch\n",
      "UoM is pinch.\n",
      "Ingredient is black pepper.\n",
      "\n"
     ]
    }
   ],
   "source": [
    "import re\n",
    "\n",
    "titlez = []\n",
    "quantityz = []\n",
    "uomz = []\n",
    "ingredientz = []\n",
    "\n",
    "for container in containers: # look at the first container\n",
    "    stringz = container.text\n",
    "#     nmbr = pattern1.findall(stringz)\n",
    "    # print(numberz)\n",
    "#     letterz = \" \".join(re.split(\"[^a-zA-Z]*\",stringz))\n",
    "#     print(numberz + \" \" + letterz)\n",
    "\n",
    "    titlez.append(title)\n",
    "\n",
    "    # stringz = '1 (15 ounce) can tuna drained and flaked'\n",
    "    # stringz = '1 egg'\n",
    "\n",
    "    pattern1 = re.compile(r'[0-9]+') # looks for the numbers to calculate 'default_qty'\n",
    "    pattern2 = re.compile(r'[a-z]+')\n",
    "    pepper_pattern = re.compile(r'(bell pepper|black pepper|banana pepper|Italian pepper|poblano pepper|Cuban pepper|Anaheim pepper|Jalapeno pepper|chile pepper|habanero pepper)')\n",
    "    \n",
    "    # matches = pattern.finditer(stringz)\n",
    "    matches1 = pattern1.findall(stringz)\n",
    "    matches2 = pattern2.findall(stringz)\n",
    "\n",
    "    # uom = matches2[0] # this isolates the uom\n",
    "    # question_ingredients = matches2[1:] # this shows only the description after the uom\n",
    "    question_ingredients = matches2 # this shows only the description after the uom\n",
    "\n",
    "    print(f'Quantity numbers are {matches1}')\n",
    "    # print(f'UoM is {uom}') # this is the value for 'uom' in the table\n",
    "    print(f'List of possible ingredients are {question_ingredients}') # this is for everything after uom, run this through the ingredient_list to parse\n",
    "\n",
    "    # for match in matches:\n",
    "    #     print(match)\n",
    "    # -----------------------------------------------------------------------------------\n",
    "\n",
    "    # This code calculates the product of the numbers in the string\n",
    "    # This will be used in the 'default_qty' table column\n",
    "\n",
    "    matchprev = 1\n",
    "\n",
    "    for match in matches1:\n",
    "        match = float(match)\n",
    "    #     print(f'match is {match}')\n",
    "        productz = match * matchprev\n",
    "    #     print(f'productz is {productz}')\n",
    "        matchprev = productz\n",
    "    #     print(f'matchprev is {matchprev}')\n",
    "    #     print()\n",
    "\n",
    "    quantity = productz\n",
    "    quantityz.append(quantity)\n",
    "    print(f'Quantity is {quantity}.')\n",
    "    # -----------------------------------------------------------------------------------\n",
    "\n",
    "    # This section takes the .csv files and imports them as lists\n",
    "    import pandas as pd\n",
    "\n",
    "    ingredients_list_df = pd.read_csv(\"Inputs/ingredients_list.csv\")\n",
    "    ingredients_list = ingredients_list_df['ingredient_name'].tolist()\n",
    "\n",
    "    uom_list_df = pd.read_csv(\"Inputs/uom_list.csv\")\n",
    "    uom_list = uom_list_df['uom'].tolist()\n",
    "    # -----------------------------------------------------------------------------------\n",
    "\n",
    "    # This section loops through the web site description to see if the items are in our uom_list.csv file\n",
    "\n",
    "    uom_review_list = []\n",
    "    uom_exist_list = []\n",
    "\n",
    "    for uom in question_ingredients:\n",
    "        if uom in uom_list:\n",
    "            uom_exist_list.append(uom)\n",
    "        else:\n",
    "            uom_review_list.append(uom)\n",
    "\n",
    "    if len(uom_exist_list) == 0:\n",
    "        uom = 'each'\n",
    "    else:\n",
    "        uom = uom_exist_list[0]\n",
    "\n",
    "    uomz.append(uom)\n",
    "    print(uom)\n",
    "    print(f'UoM is {uom}.')\n",
    "    # print('If above is blank, then most likely the UoM is each or may need to be added to the uom_list.csv')\n",
    "    # -----------------------------------------------------------------------------------\n",
    "\n",
    "    # This loops through the web site description to see if the items are in our ingredients_list.csv file\n",
    "\n",
    "    ingr_review_list = []\n",
    "    ingr_exist_list = []\n",
    "\n",
    "    for ingr in question_ingredients:\n",
    "        if ingr == 'pepper':\n",
    "            ingr = pepper_pattern.findall(stringz)[0]\n",
    "            ingr_exist_list.append(ingr)\n",
    "#             print(f'if {ingr}')\n",
    "        elif ingr in ingredients_list:\n",
    "            ingr_exist_list.append(ingr)\n",
    "#             print(f'elif {ingr}')\n",
    "        else:\n",
    "            ingr_review_list.append(ingr)\n",
    "#             print(f'else {ingr}')\n",
    "\n",
    "    if len(ingr_exist_list) == 0:\n",
    "        ingredient = ingr_review_list\n",
    "        print(f'Review this list for the ingredient and add to the ingredients_list.csv file: {ingr_review_list}')\n",
    "    else:\n",
    "        ingredient = ingr_exist_list[0]\n",
    "        print(f'Ingredient is {ingredient}.')\n",
    "\n",
    "    ingredientz.append(ingredient)\n",
    "    print()"
   ]
  },
  {
   "cell_type": "code",
   "execution_count": 112,
   "id": "ddb03cb9",
   "metadata": {},
   "outputs": [
    {
     "data": {
      "text/html": [
       "<div>\n",
       "<style scoped>\n",
       "    .dataframe tbody tr th:only-of-type {\n",
       "        vertical-align: middle;\n",
       "    }\n",
       "\n",
       "    .dataframe tbody tr th {\n",
       "        vertical-align: top;\n",
       "    }\n",
       "\n",
       "    .dataframe thead th {\n",
       "        text-align: right;\n",
       "    }\n",
       "</style>\n",
       "<table border=\"1\" class=\"dataframe\">\n",
       "  <thead>\n",
       "    <tr style=\"text-align: right;\">\n",
       "      <th></th>\n",
       "      <th>Recipe_Title</th>\n",
       "      <th>Qty</th>\n",
       "      <th>UoM</th>\n",
       "      <th>Ingredient</th>\n",
       "    </tr>\n",
       "  </thead>\n",
       "  <tbody>\n",
       "    <tr>\n",
       "      <th>0</th>\n",
       "      <td>Virgina's Tuna Salad</td>\n",
       "      <td>1.0</td>\n",
       "      <td>each</td>\n",
       "      <td>egg</td>\n",
       "    </tr>\n",
       "    <tr>\n",
       "      <th>1</th>\n",
       "      <td>Virgina's Tuna Salad</td>\n",
       "      <td>5.0</td>\n",
       "      <td>ounce</td>\n",
       "      <td>tuna</td>\n",
       "    </tr>\n",
       "    <tr>\n",
       "      <th>2</th>\n",
       "      <td>Virgina's Tuna Salad</td>\n",
       "      <td>3.0</td>\n",
       "      <td>tablespoons</td>\n",
       "      <td>mayonnaise</td>\n",
       "    </tr>\n",
       "    <tr>\n",
       "      <th>3</th>\n",
       "      <td>Virgina's Tuna Salad</td>\n",
       "      <td>2.0</td>\n",
       "      <td>stalks</td>\n",
       "      <td>celery</td>\n",
       "    </tr>\n",
       "    <tr>\n",
       "      <th>4</th>\n",
       "      <td>Virgina's Tuna Salad</td>\n",
       "      <td>2.0</td>\n",
       "      <td>tablespoons</td>\n",
       "      <td>relish</td>\n",
       "    </tr>\n",
       "    <tr>\n",
       "      <th>5</th>\n",
       "      <td>Virgina's Tuna Salad</td>\n",
       "      <td>1.0</td>\n",
       "      <td>pinch</td>\n",
       "      <td>black pepper</td>\n",
       "    </tr>\n",
       "  </tbody>\n",
       "</table>\n",
       "</div>"
      ],
      "text/plain": [
       "           Recipe_Title  Qty          UoM    Ingredient\n",
       "0  Virgina's Tuna Salad  1.0         each           egg\n",
       "1  Virgina's Tuna Salad  5.0        ounce          tuna\n",
       "2  Virgina's Tuna Salad  3.0  tablespoons    mayonnaise\n",
       "3  Virgina's Tuna Salad  2.0       stalks        celery\n",
       "4  Virgina's Tuna Salad  2.0  tablespoons        relish\n",
       "5  Virgina's Tuna Salad  1.0        pinch  black pepper"
      ]
     },
     "execution_count": 112,
     "metadata": {},
     "output_type": "execute_result"
    }
   ],
   "source": [
    "multiple_lists = {'Recipe_Title':titlez, 'Qty':quantityz, 'UoM':uomz, 'Ingredient':ingredientz}\n",
    "df = pd.DataFrame(multiple_lists)\n",
    "df"
   ]
  },
  {
   "cell_type": "code",
   "execution_count": 109,
   "id": "a993362b",
   "metadata": {},
   "outputs": [
    {
     "name": "stdout",
     "output_type": "stream",
     "text": [
      "else pinch\n",
      "else ground\n",
      "else black\n",
      "if black pepper\n",
      "Ingredient is black pepper.\n"
     ]
    }
   ],
   "source": [
    "pepper_pattern = re.compile(r'(bell pepper|black pepper|banana pepper|Italian pepper|poblano pepper|Cuban pepper|Anaheim pepper|Jalapeno pepper|chile pepper|habanero pepper)')\n",
    "\n",
    "for ingr in question_ingredients:\n",
    "    if ingr == 'pepper':\n",
    "        ingr = pepper_pattern.findall(stringz)[0]\n",
    "        ingr_exist_list.append(ingr)\n",
    "        print(f'if {ingr}')\n",
    "    elif ingr in ingredients_list:\n",
    "        ingr_exist_list.append(ingr)\n",
    "        print(f'elif {ingr}')\n",
    "    else:\n",
    "        ingr_review_list.append(ingr)\n",
    "        print(f'else {ingr}')\n",
    "\n",
    "if len(ingr_exist_list) == 0:\n",
    "    ingredient = ingr_review_list\n",
    "    print(f'Review this list for the ingredient and add to the ingredients_list.csv file: {ingr_review_list}')\n",
    "else:\n",
    "    ingredient = ingr_exist_list[0]\n",
    "    print(f'Ingredient is {ingredient}.')\n",
    "\n",
    "ingredientz.append(ingredient)"
   ]
  },
  {
   "cell_type": "code",
   "execution_count": 64,
   "id": "dd8c23a4",
   "metadata": {},
   "outputs": [
    {
     "name": "stdout",
     "output_type": "stream",
     "text": [
      "The following items already exist in our ingredients_list.csv file\n",
      "['tuna']\n",
      "\n",
      "Are any of the listed items below food items? If so, then we need to add them to the ingredients_list.csv file\n",
      "['ounce', 'can', 'drained', 'and', 'flaked']\n"
     ]
    }
   ],
   "source": [
    "print('The following items already exist in our ingredients_list.csv file')\n",
    "print(ingr_exist_list)\n",
    "print()\n",
    "\n",
    "print('Are any of the listed items below food items? If so, then we need to add them to the ingredients_list.csv file')\n",
    "print(ingr_review_list)"
   ]
  },
  {
   "cell_type": "code",
   "execution_count": null,
   "id": "935eebf3",
   "metadata": {},
   "outputs": [],
   "source": [
    "initial_pos = 1\n",
    "\n",
    "for x in range(len(matches2)-1):\n",
    "    "
   ]
  },
  {
   "cell_type": "code",
   "execution_count": 30,
   "id": "7dd73a77",
   "metadata": {},
   "outputs": [
    {
     "name": "stdout",
     "output_type": "stream",
     "text": [
      "15.0\n"
     ]
    }
   ],
   "source": []
  },
  {
   "cell_type": "code",
   "execution_count": 11,
   "id": "d5003901",
   "metadata": {},
   "outputs": [
    {
     "name": "stdout",
     "output_type": "stream",
     "text": [
      "1 (15 ounce) can tuna drained and flaked\n"
     ]
    }
   ],
   "source": [
    "numberz = pattern.sub(r'\\1',stringz)\n",
    "print(numberz)"
   ]
  },
  {
   "cell_type": "code",
   "execution_count": 40,
   "id": "ebe1bb4f",
   "metadata": {},
   "outputs": [],
   "source": [
    "container = container.decompose()\n",
    "container"
   ]
  },
  {
   "cell_type": "code",
   "execution_count": null,
   "id": "d491ddd8",
   "metadata": {},
   "outputs": [],
   "source": [
    "# title_container = container.findAll(\"a\", {\"class\":\"item_title\"})\n",
    "# title_container"
   ]
  },
  {
   "cell_type": "code",
   "execution_count": null,
   "id": "f98dafe9",
   "metadata": {},
   "outputs": [],
   "source": [
    "# shipping_container = container.findAll(\"li\", {\"class\":\"price-ship\"})\n",
    "# shipping_container[0].text.strip() # strip removes all white space before or after, new lines, etc"
   ]
  },
  {
   "cell_type": "code",
   "execution_count": null,
   "id": "f2c064da",
   "metadata": {},
   "outputs": [],
   "source": [
    "# Build loop to export data to csv file\n",
    "filename = \"ingredients.csv\"\n",
    "f = open(filenmae, \"w\")\n",
    "\n",
    "headers = \"ingredient, product_name, shipping\\n\"\n",
    "\n",
    "f.write(headers)\n",
    "\n",
    "for container in containers:\n",
    "    brand = container.div.div.a.img[\"title\"]\n",
    "    title_container = container.findAll(\"a\", {\"class\":\"item_title\"})\n",
    "    product_name = title_container[0].text\n",
    "    shipping_container = container.findAll(\"li\", {\"class\":\"price-ship\"})\n",
    "    shipping = shipping_container[0].text.strip() # strip removes all white space before or after, new lines, etc\n",
    "    \n",
    "    print(\"brand: \" + brand)\n",
    "    print(\"product_name: \" + product_name)\n",
    "    print(\"shipping: \" + shipping)\n",
    "    \n",
    "    f.write(brand + \",\" + product_name.replace(\",\",\"|\") + \",\" + shipping + \"\\n\")\n",
    "\n",
    "f.close()"
   ]
  }
 ],
 "metadata": {
  "kernelspec": {
   "display_name": "Python [conda env:pyvizenv]",
   "language": "python",
   "name": "conda-env-pyvizenv-py"
  },
  "language_info": {
   "codemirror_mode": {
    "name": "ipython",
    "version": 3
   },
   "file_extension": ".py",
   "mimetype": "text/x-python",
   "name": "python",
   "nbconvert_exporter": "python",
   "pygments_lexer": "ipython3",
   "version": "3.7.11"
  }
 },
 "nbformat": 4,
 "nbformat_minor": 5
}
